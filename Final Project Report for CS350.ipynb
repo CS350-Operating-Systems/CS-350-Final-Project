{
 "cells": [
  {
   "cell_type": "markdown",
   "metadata": {},
   "source": [
    "# Final Project Report for CS350 - Operating Systems\n",
    "\n",
    "<br>**Authors** <br> \n",
    "Egemen İşcan, S018748, egemen.iscan@ozu.edu.tr<br>\n",
    "Barış Karaer, S015497, baris.karaer@ozu.edu.tr<br>\n",
    "Ertan Ayanlar, S014576, ertan.ayanlar@ozu.edu.tr<br>"
   ]
  },
  {
   "cell_type": "markdown",
   "metadata": {},
   "source": [
    "## Table of Contents\n",
    "* [Introduction](#introduction)\n",
    "* [Data](#data)\n",
    "* [Methodology](#methodology)\n",
    "* [Analysis and Visualization](#analysis)\n",
    "* [Results and Discussion](#results)\n",
    "* [Conclusion](#conclusion)"
   ]
  },
  {
   "cell_type": "markdown",
   "metadata": {},
   "source": [
    "## Introduction <a name=\"introduction\"></a>\n",
    "\n",
    "In this notebook we will be trying to achieve multiple goals, all of which are related to the subject of **file management with Python**. Our main task is to determine if the following assumptions are either true or false:\n",
    "\n",
    "* 90% of the files in a specified directory are smaller than 100KB.\n",
    "* 80% of the disk/SSD space is occuppied by files whose size are greater than 100MB.\n",
    "\n",
    "While doing this we will also try to separate the files into two groups based on their size and then move the large files to the *Hard Disk Drive* (HDD) meanwhile keeping the smaller files in the *Solid State Drive* (SSD). The reasoning for each decision made on the road may be found in the explanations."
   ]
  },
  {
   "cell_type": "markdown",
   "metadata": {},
   "source": [
    "## Data <a name=\"data\"></a>"
   ]
  },
  {
   "cell_type": "markdown",
   "metadata": {},
   "source": [
    "### Data Source and Use Case\n",
    "\n",
    "No external data source is needed for this project. All of the required data is already found in any computer device, given that it's able to run programs written in Python3. Diversity between different file extensions is of no concern in our case because it doesn't affect the ability to access the size of a specific file. As long as the target directories are accessible, this code may be modified in a such a way that it works on a cloud setting or virtual machine rather than a local environment. The program should also function in different operating systems. The necessary properties are '*file name*' and '*file size*'. After accessing the files, we will create a dataset to store this information, so that we can do our calculations more easily afterwards."
   ]
  },
  {
   "cell_type": "markdown",
   "metadata": {},
   "source": [
    "### Accessing and Storing Files "
   ]
  },
  {
   "cell_type": "markdown",
   "metadata": {},
   "source": [
    "Let's import the following libraries before getting started. NumPy and Pandas are arguably two of the most frequently used libraries in data science. They were extremely helpful since they provide easy-to-use solutions to numerous problems that we have encountered."
   ]
  },
  {
   "cell_type": "code",
   "execution_count": 1,
   "metadata": {},
   "outputs": [],
   "source": [
    "import numpy as np\n",
    "import pandas as pd\n",
    "import matplotlib.pyplot as plt\n",
    "from matplotlib.ticker import AutoMinorLocator"
   ]
  },
  {
   "cell_type": "markdown",
   "metadata": {},
   "source": [
    "First we have to define a function called *compareSize()* which will take in as a parameter the size of a single file (in Bytes) and return a number between 0 and 7 that represents the intervals '<1K', '<10K', '<100K', '<1M', '<10M', '<100M', '<1GB', '>=1GB', respectively. This function will be helpful when plotting the graphs that we have mentioned in the Introduction part. We tried to keep the function definition as brief as possible so we followed a slightly unusual approach for categorizing files according to their sizes. Here is roughly how it works; if the size of the file is equal to 0, then the function returns 0. If not, then it makes use of the logarithm function for fitting the size into one of these intervals since every value in these intervals may be expressed in powers of 10."
   ]
  },
  {
   "cell_type": "code",
   "execution_count": 2,
   "metadata": {},
   "outputs": [],
   "source": [
    "import math\n",
    "\n",
    "def compareSize(sizeB):\n",
    "    if(sizeB == 0):\n",
    "        return 0\n",
    "    else:\n",
    "        return min(7, max(0, int(math.log10(sizeB))-2))"
   ]
  },
  {
   "cell_type": "markdown",
   "metadata": {},
   "source": [
    "If you prefer to use a different address instead of using your entire SSD or HDD drives, you can modify these assignments by specifying new addresses for the variables '*ssd_drive*' and '*hdd_drive*'. If you leave the variables as they are, all of the files on your desktop (including the files inside the folders) will be stored in a dataframe and most of them may be repositioned to the HDD. This is just an outline to show how moving a file from one directory to the other works. Because of this, it's perfectly fine to use a part of your SSD/HDD drive instead of using the whole contents. "
   ]
  },
  {
   "cell_type": "code",
   "execution_count": 3,
   "metadata": {},
   "outputs": [],
   "source": [
    "ssd_drive = \"C:\\\\\"\n",
    "hdd_drive = \"D:\\\\\""
   ]
  },
  {
   "cell_type": "markdown",
   "metadata": {},
   "source": [
    "In order to recursively traverse the subdirectories in a top-down fashion, the code will make use of the *os.walk()* method. Three separate lists are created and populated with the necessary data as they represent the features of the dataframe. After appending the necessary information to these variables, if the size of the file is bigger than 1GB and if there is enough space in the HDD drive to store this file, then the file is moved to HDD. As you may have noticed, this second section is commented out in the code to prevent the people who run this notebook from involuntarily moving large chunks of their files to HDD.  "
   ]
  },
  {
   "cell_type": "code",
   "execution_count": 4,
   "metadata": {},
   "outputs": [
    {
     "name": "stdout",
     "output_type": "stream",
     "text": [
      "\n",
      "Accessing files...\n",
      "\n",
      "Done!\n"
     ]
    }
   ],
   "source": [
    "import os\n",
    "import shutil\n",
    "\n",
    "files = []\n",
    "sizes = []\n",
    "size_categories = []\n",
    "\n",
    "filenotfound = 0\n",
    "oserror = 0\n",
    "\n",
    "print(\"\\nAccessing files...\")\n",
    "\n",
    "for root, dir, file in os.walk(ssd_drive):\n",
    "    for i in file:\n",
    "        try:\n",
    "            newfile = os.path.join(root, i)\n",
    "            size = os.path.getsize(str(newfile))\n",
    "            files.append(newfile.strip())\n",
    "            sizes.append(float(size))\n",
    "            size_categories.append(compareSize(size))\n",
    "        except FileNotFoundError as err:\n",
    "            filenotfound = filenotfound + 1\n",
    "        except OSError as err:\n",
    "            oserror = oserror + 1\n",
    "        \n",
    "\"\"\"\n",
    "        # ATTENTION! RUNNING THIS CODE MAY ALTER THE LOCATION OF YOUR FILES!\n",
    "        \n",
    "        size_megabytes = size / 1000000\n",
    "        if (size_megabytes > 1000) :\n",
    "            if newfile.startswith(hdd_drive):\n",
    "                continue\n",
    "            total, used, free = shutil.disk_usage(hdd_drive)\n",
    "            if size_megabytes > free * 1000000:\n",
    "                print(f\"{newfile} {size} B - Not enough space on HDD !\")\n",
    "                continue\n",
    "            file_path = newfile.replace(ssd_drive, hdd_drive, 1)\n",
    "            file_dir = root.replace(ssd_drive, hdd_drive, 1)\n",
    "            if not os.path.exists(file_dir):\n",
    "                os.makedirs(file_dir)\n",
    "            \n",
    "            if os.path.islink(newfile):\n",
    "                if os.path.lexists(file_path):\n",
    "                    os.unlink(file_path)\n",
    "                linkto = os.readlink(newfile)\n",
    "                os.symlink(linkto, file_path)\n",
    "            else:\n",
    "                shutil.move(newfile,file_path)\n",
    "    \n",
    "\"\"\"\n",
    "    \n",
    "print(\"\\nDone!\")"
   ]
  },
  {
   "cell_type": "markdown",
   "metadata": {},
   "source": [
    "Now that we have obtained and stored the necessary data without any issues, it's time to create a dataframe from the previously created lists using the Pandas library. A major part of Data Science is data cleaning, so we are going to check if there are any missing values and make sure that our dataframe is ready to be worked on."
   ]
  },
  {
   "cell_type": "code",
   "execution_count": 5,
   "metadata": {},
   "outputs": [
    {
     "name": "stdout",
     "output_type": "stream",
     "text": [
      "There are 1227699 rows and 3 columns in the initial dataset.\n",
      "No missing values.\n"
     ]
    }
   ],
   "source": [
    "df = pd.DataFrame({\n",
    "        'file_name':files,\n",
    "        'file_size':sizes,\n",
    "        'size_category':size_categories\n",
    "        })\n",
    "\n",
    "df = df.sort_values(by=['file_size'])\n",
    "\n",
    "print(\"There are {} rows and {} columns in the initial dataset.\".format(df.shape[0],df.shape[1]))\n",
    "\n",
    "na_cols = df.columns[df.isna().any()].tolist()\n",
    "\n",
    "if not na_cols:\n",
    "    print(\"No missing values.\")\n",
    "else:\n",
    "    print(f\"Columns which include NA rows: {na_cols}.\") "
   ]
  },
  {
   "cell_type": "markdown",
   "metadata": {},
   "source": [
    "The last 10 rows of the dataframe can be seen below. The indexes are shuffled (unordered) because we sorted the files according to their file size in the last cell. By looking at this table, we can see the directory and size of the files. We can also see a third column which tells us how large the size is."
   ]
  },
  {
   "cell_type": "code",
   "execution_count": 6,
   "metadata": {},
   "outputs": [
    {
     "data": {
      "text/html": [
       "<div>\n",
       "<style scoped>\n",
       "    .dataframe tbody tr th:only-of-type {\n",
       "        vertical-align: middle;\n",
       "    }\n",
       "\n",
       "    .dataframe tbody tr th {\n",
       "        vertical-align: top;\n",
       "    }\n",
       "\n",
       "    .dataframe thead th {\n",
       "        text-align: right;\n",
       "    }\n",
       "</style>\n",
       "<table border=\"1\" class=\"dataframe\">\n",
       "  <thead>\n",
       "    <tr style=\"text-align: right;\">\n",
       "      <th></th>\n",
       "      <th>file_name</th>\n",
       "      <th>file_size</th>\n",
       "      <th>size_category</th>\n",
       "    </tr>\n",
       "  </thead>\n",
       "  <tbody>\n",
       "    <tr>\n",
       "      <th>713148</th>\n",
       "      <td>C:\\Users\\hp\\Desktop\\Proffesional\\bilgisayar pr...</td>\n",
       "      <td>3.587150e+09</td>\n",
       "      <td>7</td>\n",
       "    </tr>\n",
       "    <tr>\n",
       "      <th>717474</th>\n",
       "      <td>C:\\Users\\hp\\Downloads\\kali-linux-2018.4-vbox-a...</td>\n",
       "      <td>3.763980e+09</td>\n",
       "      <td>7</td>\n",
       "    </tr>\n",
       "    <tr>\n",
       "      <th>723442</th>\n",
       "      <td>C:\\Users\\hp\\Music\\iTunes\\iTunes Media\\Download...</td>\n",
       "      <td>4.362269e+09</td>\n",
       "      <td>7</td>\n",
       "    </tr>\n",
       "    <tr>\n",
       "      <th>723445</th>\n",
       "      <td>C:\\Users\\hp\\Music\\iTunes\\iTunes Media\\Movies\\R...</td>\n",
       "      <td>4.811422e+09</td>\n",
       "      <td>7</td>\n",
       "    </tr>\n",
       "    <tr>\n",
       "      <th>1</th>\n",
       "      <td>C:\\pagefile.sys</td>\n",
       "      <td>4.831838e+09</td>\n",
       "      <td>7</td>\n",
       "    </tr>\n",
       "    <tr>\n",
       "      <th>723444</th>\n",
       "      <td>C:\\Users\\hp\\Music\\iTunes\\iTunes Media\\Movies\\B...</td>\n",
       "      <td>5.214800e+09</td>\n",
       "      <td>7</td>\n",
       "    </tr>\n",
       "    <tr>\n",
       "      <th>730490</th>\n",
       "      <td>C:\\Users\\hp\\VirtualBox VMs\\Ubuntu OS\\Ubuntu OS...</td>\n",
       "      <td>6.190793e+09</td>\n",
       "      <td>7</td>\n",
       "    </tr>\n",
       "    <tr>\n",
       "      <th>717925</th>\n",
       "      <td>C:\\Users\\hp\\Downloads\\Xilinx_ISE_DS_Win_14.7_1...</td>\n",
       "      <td>6.632274e+09</td>\n",
       "      <td>7</td>\n",
       "    </tr>\n",
       "    <tr>\n",
       "      <th>730482</th>\n",
       "      <td>C:\\Users\\hp\\VirtualBox VMs\\UB2_Coursera\\UB2_Co...</td>\n",
       "      <td>1.027395e+10</td>\n",
       "      <td>7</td>\n",
       "    </tr>\n",
       "    <tr>\n",
       "      <th>717234</th>\n",
       "      <td>C:\\Users\\hp\\Downloads\\dfdc_train_part_00.zip</td>\n",
       "      <td>1.237124e+10</td>\n",
       "      <td>7</td>\n",
       "    </tr>\n",
       "  </tbody>\n",
       "</table>\n",
       "</div>"
      ],
      "text/plain": [
       "                                                file_name     file_size  \\\n",
       "713148  C:\\Users\\hp\\Desktop\\Proffesional\\bilgisayar pr...  3.587150e+09   \n",
       "717474  C:\\Users\\hp\\Downloads\\kali-linux-2018.4-vbox-a...  3.763980e+09   \n",
       "723442  C:\\Users\\hp\\Music\\iTunes\\iTunes Media\\Download...  4.362269e+09   \n",
       "723445  C:\\Users\\hp\\Music\\iTunes\\iTunes Media\\Movies\\R...  4.811422e+09   \n",
       "1                                         C:\\pagefile.sys  4.831838e+09   \n",
       "723444  C:\\Users\\hp\\Music\\iTunes\\iTunes Media\\Movies\\B...  5.214800e+09   \n",
       "730490  C:\\Users\\hp\\VirtualBox VMs\\Ubuntu OS\\Ubuntu OS...  6.190793e+09   \n",
       "717925  C:\\Users\\hp\\Downloads\\Xilinx_ISE_DS_Win_14.7_1...  6.632274e+09   \n",
       "730482  C:\\Users\\hp\\VirtualBox VMs\\UB2_Coursera\\UB2_Co...  1.027395e+10   \n",
       "717234       C:\\Users\\hp\\Downloads\\dfdc_train_part_00.zip  1.237124e+10   \n",
       "\n",
       "        size_category  \n",
       "713148              7  \n",
       "717474              7  \n",
       "723442              7  \n",
       "723445              7  \n",
       "1                   7  \n",
       "723444              7  \n",
       "730490              7  \n",
       "717925              7  \n",
       "730482              7  \n",
       "717234              7  "
      ]
     },
     "execution_count": 6,
     "metadata": {},
     "output_type": "execute_result"
    }
   ],
   "source": [
    "df.tail(10)"
   ]
  },
  {
   "cell_type": "markdown",
   "metadata": {},
   "source": [
    "By using the '*describe()*' method, we may also display some key facts about the file_size attribute. This is a good way of searching for any major errors in the data that should be fixed. You may want to take a second look at the code in case you notice any anomalies below. One example would be a minimum value which is bigger than 10TB, since a value like this indicates an unusual situation and most probably that something went wrong in the previous parts."
   ]
  },
  {
   "cell_type": "code",
   "execution_count": 7,
   "metadata": {},
   "outputs": [
    {
     "data": {
      "text/plain": [
       "count    1.227699e+06\n",
       "mean     2.253990e+05\n",
       "std      2.092102e+07\n",
       "min      0.000000e+00\n",
       "25%      7.710000e+02\n",
       "50%      3.500000e+03\n",
       "75%      1.689600e+04\n",
       "max      1.237124e+10\n",
       "Name: file_size, dtype: float64"
      ]
     },
     "execution_count": 7,
     "metadata": {},
     "output_type": "execute_result"
    }
   ],
   "source": [
    "df.file_size.describe()"
   ]
  },
  {
   "cell_type": "markdown",
   "metadata": {},
   "source": [
    "\n",
    "## Methodology <a name=\"methodology\"></a>\n",
    "\n",
    "We will try to find an answer to the hypotheses described in the Introduction section by using some statistical tools that Python provides us. Until this step, we have already gathered the necessary data which is composed of SSD files by using the os library. Now that the data is stored in an organized fashion thanks to Pandas, it's time to start modifying the dataframe and do the appropriate calculations, none of which are complicated, so that we can make decisions based on the information that we have.   \n"
   ]
  },
  {
   "cell_type": "markdown",
   "metadata": {},
   "source": [
    "## Analysis and Visualization <a name=\"analysis\"></a>"
   ]
  },
  {
   "cell_type": "markdown",
   "metadata": {},
   "source": [
    "### Data Analysis\n",
    "\n",
    "Although it may not be crucial, we will count the files and print their distribution based on the \"size_category\" attribute. This way it becomes easier to notice possible future mistakes as early as possible."
   ]
  },
  {
   "cell_type": "code",
   "execution_count": 8,
   "metadata": {},
   "outputs": [
    {
     "name": "stdout",
     "output_type": "stream",
     "text": [
      "Distribution of File Size:\n",
      "\n",
      "357031 files with size 0K - 1K\n",
      "450156 files with size 1K - 10K\n",
      "314529 files with size 10K - 100K\n",
      "83058 files with size 100K - 1M\n",
      "20479 files with size 1M - 10M\n",
      "2288 files with size 10M - 100M\n",
      "132 files with size 100M - 1GB\n",
      "26 files with size 1GB - ∞\n"
     ]
    }
   ],
   "source": [
    "intervals = ['0K','1K','10K','100K','1M','10M','100M','1GB','∞']\n",
    "\n",
    "counts = df.size_category.astype(pd.api.types.CategoricalDtype(categories=range(8), ordered=True))\n",
    "counts = counts.value_counts().sort_index()\n",
    "print(\"Distribution of File Size:\\n\")\n",
    "for num, count in enumerate(counts):\n",
    "    print(\"{} files with size {} - {}\".format(str(count), intervals[num], intervals[num+1]))"
   ]
  },
  {
   "cell_type": "markdown",
   "metadata": {},
   "source": [
    "At this point, we have enough information to check if the first hypothesis is either true or false. Later in the code, we will use visualization techniques that will enable us to confirm that our findings are indeed valid."
   ]
  },
  {
   "cell_type": "code",
   "execution_count": 9,
   "metadata": {},
   "outputs": [
    {
     "name": "stdout",
     "output_type": "stream",
     "text": [
      "91.37% of the files in a specified directory are smaller than 100KB. \n",
      "Therefore the first hypotheses is true.\n"
     ]
    }
   ],
   "source": [
    "percentage = df[df['size_category'] < 3].shape[0] / df.shape[0]\n",
    "hypothesis1 = percentage >= 0.9\n",
    "print(\"{}% of the files in a specified directory are smaller than 100KB. \\nTherefore the first hypotheses is {}.\".format(\n",
    "    str(round(percentage*100,2)), str(hypothesis1).lower()))"
   ]
  },
  {
   "cell_type": "markdown",
   "metadata": {},
   "source": [
    "A list called *sizedist* and a second list called *sizedist_cumulative* (which is basically a cumulative sum of the items in the sizedist) are created in the following cell. Both of them will be used while plotting the **Probability Distribution Function (PDF)** and the **Cumulative Distribution Function (CDF)**. First we calculate the sum of the sizes for each category of file size and append these values to sizedist. Then we divide each item in the list by the sum of all of the files no matter what their cateogry is. When it comes to calculating the CDF, a Numpy function called '*cumsum()*' which is the abbreviation for \"cumulative sum\" is used on sizedist. In other words, we derived the CDF by using the same list that we used for obtaining the PDF. These functions indicate how likely it is for a single file with unknown size to belong to a certain interval.  "
   ]
  },
  {
   "cell_type": "code",
   "execution_count": 10,
   "metadata": {},
   "outputs": [],
   "source": [
    "sizedist = []\n",
    "for i in range(8):\n",
    "    sizedist.append(df[df['size_category']==i]['file_size'].sum(axis=0, skipna=True))\n",
    "sizedist = [x/sum(sizes) for x in sizedist]\n",
    "sizedist_cumulative = np.cumsum(sizedist).tolist() "
   ]
  },
  {
   "cell_type": "markdown",
   "metadata": {},
   "source": [
    "In the cell below, the second hypothesis is checked by calculating the sum of the last two values in the sizedist variable. These two values represent the ratio of the file size of the files larger than 100MB to the total space occupied by files in SSD. "
   ]
  },
  {
   "cell_type": "code",
   "execution_count": 11,
   "metadata": {},
   "outputs": [
    {
     "name": "stdout",
     "output_type": "stream",
     "text": [
      "43.55% of the disk space is occupied by files whose size are greater than 100MB.\n",
      "Therefore the second hypotheses is false.\n"
     ]
    }
   ],
   "source": [
    "print(str(round(sum(sizedist[-2:]*100),2)) + \"% of the disk space is occupied by files whose size are greater than 100MB.\")\n",
    "hypothesis2 = sum(sizedist[-2:]) >= 0.8\n",
    "print(\"Therefore the second hypotheses is {}.\".format(str(hypothesis2).lower()))"
   ]
  },
  {
   "cell_type": "markdown",
   "metadata": {},
   "source": [
    "### Data Visualization\n",
    "\n",
    "We have already answered the hypotheses, however it's good practice to always use graphs to see if the values that we found are actually correct. The matplotlib library will be used for plotting the density graphs. Let's plot the PDF and CDF graphs for the file size. "
   ]
  },
  {
   "cell_type": "code",
   "execution_count": 12,
   "metadata": {},
   "outputs": [
    {
     "data": {
      "image/png": "[encoded data removed]",
      "text/plain": [
       "<Figure size 1080x1080 with 1 Axes>"
      ]
     },
     "metadata": {
      "needs_background": "light"
     },
     "output_type": "display_data"
    }
   ],
   "source": [
    "sizedist.append(sizedist[-1])\n",
    "sizedist_cumulative.append(sizedist_cumulative[-1])\n",
    "intervals.insert(0,\"\")\n",
    "fbins = np.arange(9)\n",
    "fig_size = plt.figure(figsize=(15,15))\n",
    "ax1 = fig_size.add_subplot(211)\n",
    "ax1.step(fbins, sizedist, where='post', color='m', label='PDF')\n",
    "ax1.step(fbins, sizedist_cumulative, where='post', color='b', label='CDF')\n",
    "ax1.yaxis.grid(True, which='both')\n",
    "ax1.yaxis.set_minor_locator(AutoMinorLocator())\n",
    "ax1.legend(loc='right')\n",
    "ax1.set_xticklabels(intervals)\n",
    "ax1.set_title('Density Histogram (File Size)')\n",
    "ax1.set_xlabel('File size')\n",
    "ax1.set_ylabel('Likelihood of occurrence')\n",
    "fig_size.set_visible(True)"
   ]
  },
  {
   "cell_type": "markdown",
   "metadata": {},
   "source": [
    "At this point, more or less the same thing will be done in terms of plotting PDF and CDF graphs but this time not for the file size but for the file count instead. The distrubtion is determined based on the number of files in an interval. Since the values on the y-axis represent a probability, they would never exceed 1. In fact, their sum is going to be always equal to exactly 1, as it is the case with both of these graphs.  "
   ]
  },
  {
   "cell_type": "code",
   "execution_count": 13,
   "metadata": {},
   "outputs": [
    {
     "data": {
      "image/png": "[encoded data removed]",
      "text/plain": [
       "<Figure size 1080x1080 with 1 Axes>"
      ]
     },
     "metadata": {
      "needs_background": "light"
     },
     "output_type": "display_data"
    }
   ],
   "source": [
    "fig_count = plt.figure(figsize=(15,15))\n",
    "ax2 = fig_count.add_subplot(211)\n",
    "ax2.hist(df['size_category'], fbins, density=1, histtype='step', cumulative=True, label='CDF', color='b')\n",
    "ax2.hist(df['size_category'], fbins, histtype='step', density=1, label='PDF', color='m')\n",
    "ax2.yaxis.grid(True, which='both')\n",
    "ax2.yaxis.set_minor_locator(AutoMinorLocator())\n",
    "ax2.legend(loc='right')\n",
    "ax2.set_xticklabels(intervals)\n",
    "ax2.set_title('Density Histogram (File Count)')\n",
    "ax2.set_xlabel('File size')\n",
    "ax2.set_ylabel('Likelihood of occurrence')\n",
    "fig_count.set_visible(True)"
   ]
  },
  {
   "cell_type": "markdown",
   "metadata": {},
   "source": [
    "## Results and Discussion <a name=\"results\"></a>\n",
    "\n",
    "While evaluating the results, please keep in mind that these results that we found may vary from the outputs that you see when you run this code on your own device because the number of files and their size may differ from the ones that we used for this report. With that in mind, it is possible to state the first hypothesis is true whereas the second one is false. By looking both at the histograms and the results that we have obtained manually, we found out that:\n",
    "\n",
    "* 91.37% of the files in a specified directory are smaller than 100KB. \n",
    "* 43.55% of the disk space is occupied by files whose size are greater than 100MB.\n",
    "\n",
    "Clearly, the second percentage is different than 80%. However, the first percentage was just a little over 90%. There seems to be a temptation for the files in a computer to gather around an interval, in our case this was 1KB-10KB, as we may conclude from the second graph. Of course, this is not a strong claim because there are many factors which may affect this situation, as we have stated at the beginning of this section.    \n"
   ]
  },
  {
   "cell_type": "markdown",
   "metadata": {},
   "source": [
    "## Conclusion <a name=\"conclusion\"></a>\n",
    "\n",
    "The aim of this project was to demonstrate how to access files in a specified directory, store them in a Pandas dataframe, use Numpy functionalities to extract meaningful information and answer hypotheses this way. One of the libraries that's also used is the matplotlib library while visualizing this data via histograms/step plots. It is important to keep in mind that File Management is a broad subject and this notebook covers only a part of it. The notebook serves as a documentation of the steps that we have followed as a team during the course of finding solutions to a programming problem which is provided to us in the context of our CS350 Operating Systems course at Ozyegin University. Lastly, we would like to express our gratitude to our professor Dr. İsmail Arı whose direction and guidance helped us in writing this report."
   ]
  }
 ],
 "metadata": {
  "kernelspec": {
   "display_name": "Python 3",
   "language": "python",
   "name": "python3"
  },
  "language_info": {
   "codemirror_mode": {
    "name": "ipython",
    "version": 3
   },
   "file_extension": ".py",
   "mimetype": "text/x-python",
   "name": "python",
   "nbconvert_exporter": "python",
   "pygments_lexer": "ipython3",
   "version": "3.7.0"
  }
 },
 "nbformat": 4,
 "nbformat_minor": 2
}
